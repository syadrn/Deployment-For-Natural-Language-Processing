{
 "cells": [
  {
   "cell_type": "markdown",
   "metadata": {},
   "source": [
    "# Klasifikasi SMS (Model NB)\n",
    "\n",
    "Contoh Deloyment untuk Natural Language Processing (NLP) <br>\n",
    "Orbit Future Academy - AI Mastery - KM Batch 3 <br>\n",
    "Tim Deployment dan Tim NLP <br>\n",
    "2022"
   ]
  },
  {
   "cell_type": "markdown",
   "metadata": {
    "id": "DgMk7bvOuO4H"
   },
   "source": [
    "Hari ini, kita akan menyelesaikan kasus klasifikasi SMS spam menggunakan skema seperti gambar di bawah ini.\n",
    "<img src=\"./Process Flow.png\" width=600 height=150 />\n",
    "\n",
    "Langkah-langkah penyelesaian melitputi:\n",
    "1. Data Acquisition\n",
    "2. Exploratory Data Analysis (EDA)\n",
    "3. Pre-processing\n",
    "   1. Case Folding\n",
    "   2. Filtering\n",
    "   3. Stopword\n",
    "   4. Stemming\n",
    "4. Feature Engineering\n",
    "   1. Feature Extraction - TF IDF\n",
    "   2. Feature Selection - Chi-Square\n",
    "5. Modelling (Machine Learning)\n",
    "6. Prediction\n",
    "7. Model Evaluation\n",
    "\n",
    "Pada kasus ini, kita menggunakan data set berbahasa indonesia, sehingga kita membutuhkan *Library Sastrawi* untuk menyelesaikan beberapa permasalahan seperti *stemming*."
   ]
  },
  {
   "cell_type": "markdown",
   "metadata": {},
   "source": [
    "## Modules dan Packages"
   ]
  },
  {
   "cell_type": "code",
   "execution_count": null,
   "metadata": {
    "colab": {
     "base_uri": "https://localhost:8080/"
    },
    "id": "7dZEvPfm0-gP",
    "outputId": "3ffad6a1-3bd1-4c49-b0ce-647353a8d93a"
   },
   "outputs": [],
   "source": [
    "!pip -q install sastrawi"
   ]
  },
  {
   "cell_type": "code",
   "execution_count": null,
   "metadata": {},
   "outputs": [],
   "source": [
    "!pip -q install nltk"
   ]
  },
  {
   "cell_type": "code",
   "execution_count": null,
   "metadata": {
    "id": "3jVGiQ4nr4uK"
   },
   "outputs": [],
   "source": [
    "import pandas as pd\n",
    "import numpy as np\n",
    "import matplotlib.pyplot as plt\n",
    "\n",
    "import pickle\n",
    "\n",
    "import re\n",
    "import nltk\n",
    "nltk.download('stopwords')\n",
    "\n",
    "from nltk.tokenize import sent_tokenize, word_tokenize\n",
    "from nltk.corpus import stopwords\n",
    "\n",
    "from Sastrawi.Stemmer.StemmerFactory import StemmerFactory\n",
    "\n",
    "from sklearn.feature_extraction.text import TfidfVectorizer\n",
    "\n",
    "from sklearn.feature_selection import SelectKBest \n",
    "from sklearn.feature_selection import chi2 \n",
    "\n",
    "import random\n",
    "from joblib import dump\n",
    "\n",
    "from sklearn.naive_bayes import MultinomialNB\n",
    "\n",
    "from sklearn.model_selection import train_test_split\n",
    "\n",
    "from sklearn.metrics import accuracy_score\n",
    "from sklearn.metrics import confusion_matrix\n",
    "from sklearn.metrics import classification_report\n",
    "\n",
    "%matplotlib inline"
   ]
  },
  {
   "cell_type": "markdown",
   "metadata": {
    "id": "Cwyw4gq1sLo0"
   },
   "source": [
    "## Data Acquisition\n",
    "\n",
    "Penjelasan Label \n",
    "* 0: SMS normal \n",
    "* 1: SMS fraud atau penipuan \n",
    "* 2: SMS promo"
   ]
  },
  {
   "cell_type": "code",
   "execution_count": null,
   "metadata": {
    "colab": {
     "base_uri": "https://localhost:8080/",
     "height": 206
    },
    "id": "gYItGX_jtL3b",
    "outputId": "499d4213-d2b5-4989-c87e-87e85270ab5f"
   },
   "outputs": [],
   "source": [
    "data = pd.read_csv('dataset_sms_spam_v1.csv')\n",
    "data.head()"
   ]
  },
  {
   "cell_type": "code",
   "execution_count": null,
   "metadata": {
    "colab": {
     "base_uri": "https://localhost:8080/"
    },
    "id": "fmPgkrIltdLj",
    "outputId": "fbe77cd0-9717-478b-c752-23c6a64f27b3"
   },
   "outputs": [],
   "source": [
    "data.info()"
   ]
  },
  {
   "cell_type": "markdown",
   "metadata": {},
   "source": [
    "## Exploratory Data Analysis (EDA)"
   ]
  },
  {
   "cell_type": "code",
   "execution_count": null,
   "metadata": {
    "colab": {
     "base_uri": "https://localhost:8080/"
    },
    "id": "Ikc4rlDztnZh",
    "outputId": "07764c21-523d-4447-fa3b-ccb95f8645dd"
   },
   "outputs": [],
   "source": [
    "print('Total Jumlah SMS:', data.shape[0], 'data\\n')\n",
    "print('terdiri dari (label):')\n",
    "print('-- [0] SMS Normal\\t:', data[data.label == 0].shape[0], 'data')\n",
    "print('-- [1] Fraud / Penipuan\\t:', data[data.label == 1].shape[0], 'data')\n",
    "print('-- [2] Promo\\t\\t:', data[data.label == 2].shape[0], 'data\\n')"
   ]
  },
  {
   "cell_type": "code",
   "execution_count": null,
   "metadata": {
    "colab": {
     "base_uri": "https://localhost:8080/",
     "height": 323
    },
    "id": "uYLfyS4ut0ID",
    "outputId": "ddb2ec53-29a4-4f4e-a409-9d5febfd6061"
   },
   "outputs": [],
   "source": [
    "height = data['label'].value_counts()\n",
    "labels = ('SMS Normal', 'SMS Fraud / Penipuan', 'SMS Promo')\n",
    "y_pos  = np.arange(len(labels))\n",
    "\n",
    "plt.figure(figsize=(7,4), dpi=80)\n",
    "plt.ylim(0,600)\n",
    "plt.title('Distribusi Kategori SMS', fontweight='bold')\n",
    "plt.xlabel('Kategori', fontweight='bold')\n",
    "plt.ylabel('Jumlah', fontweight='bold')\n",
    "plt.bar(y_pos, height, color=['deepskyblue', 'royalblue', 'skyblue'])\n",
    "plt.xticks(y_pos, labels)\n",
    "plt.show()"
   ]
  },
  {
   "cell_type": "markdown",
   "metadata": {
    "id": "xod-gciUsNF4"
   },
   "source": [
    "## Text Preprocessing"
   ]
  },
  {
   "cell_type": "markdown",
   "metadata": {
    "id": "24IOM3key9Pt"
   },
   "source": [
    "### Case Folding"
   ]
  },
  {
   "cell_type": "code",
   "execution_count": null,
   "metadata": {
    "id": "Cu5YB-9yzEDf"
   },
   "outputs": [],
   "source": [
    "# Buat fungsi untuk langkah case folding\n",
    "def casefolding(text):\n",
    "  text = text.lower()                               # Mengubah teks menjadi lower case\n",
    "  text = re.sub(r'https?://\\S+|www\\.\\S+', '', text) # Menghapus URL\n",
    "  text = re.sub(r'[-+]?[0-9]+', '', text)           # Menghapus angka\n",
    "  text = re.sub(r'[^\\w\\s]','', text)                # Menghapus karakter tanda baca\n",
    "  text = text.strip()\n",
    "  return text"
   ]
  },
  {
   "cell_type": "code",
   "execution_count": null,
   "metadata": {
    "colab": {
     "base_uri": "https://localhost:8080/"
    },
    "id": "krmI4Lmt50nl",
    "outputId": "0342c28e-ae59-414e-ee2d-db652fee763e"
   },
   "outputs": [],
   "source": [
    "raw_sample   = data['teks'].iloc[5]\n",
    "case_folding = casefolding(raw_sample)\n",
    "\n",
    "print('Raw data\\t: ', raw_sample)\n",
    "print('Case folding\\t: ', case_folding)"
   ]
  },
  {
   "cell_type": "markdown",
   "metadata": {
    "id": "BMASVtI1DUN9"
   },
   "source": [
    "### Word Normalization"
   ]
  },
  {
   "cell_type": "code",
   "execution_count": null,
   "metadata": {
    "id": "T1TDknAEDnoP"
   },
   "outputs": [],
   "source": [
    "key_norm = pd.read_csv('key_norm.csv')\n",
    "\n",
    "def text_normalize(text):\n",
    "  text = ' '.join([key_norm[key_norm['singkat'] == word]['hasil'].values[0] if (key_norm['singkat'] == word).any() else word for word in text.split()])\n",
    "  text = str.lower(text)\n",
    "  return text"
   ]
  },
  {
   "cell_type": "markdown",
   "metadata": {
    "id": "OGq9TrHczTyV"
   },
   "source": [
    "### Filtering (Stopword Removal)"
   ]
  },
  {
   "cell_type": "code",
   "execution_count": null,
   "metadata": {
    "id": "ocKJz_jxzc0o"
   },
   "outputs": [],
   "source": [
    "stopwords_ind = stopwords.words('indonesian')"
   ]
  },
  {
   "cell_type": "code",
   "execution_count": null,
   "metadata": {
    "colab": {
     "base_uri": "https://localhost:8080/"
    },
    "id": "FAGVokJg2zGE",
    "outputId": "e4e85e33-27fb-4dc8-cb44-d79a4df533ef"
   },
   "outputs": [],
   "source": [
    "len(stopwords_ind)"
   ]
  },
  {
   "cell_type": "code",
   "execution_count": null,
   "metadata": {
    "colab": {
     "base_uri": "https://localhost:8080/"
    },
    "id": "AqkW2aV12XlG",
    "outputId": "ce2651b1-b380-40e2-9f12-1a7a6bc0353b"
   },
   "outputs": [],
   "source": [
    "# Lihat daftar stopword yang disediakan NLTK\n",
    "stopwords_ind"
   ]
  },
  {
   "cell_type": "code",
   "execution_count": null,
   "metadata": {
    "id": "EjLJSLrT2S6B"
   },
   "outputs": [],
   "source": [
    "# Buat fungsi untuk langkah stopword removal\n",
    "\n",
    "more_stopword = ['tsel', 'gb', 'rb']                    # Tambahkan kata dalam daftar stopword\n",
    "stopwords_ind = stopwords_ind + more_stopword\n",
    "\n",
    "def remove_stop_words(text):\n",
    "  clean_words = []\n",
    "  text = text.split()\n",
    "  for word in text:\n",
    "      if word not in stopwords_ind:\n",
    "          clean_words.append(word)\n",
    "  return \" \".join(clean_words)"
   ]
  },
  {
   "cell_type": "code",
   "execution_count": null,
   "metadata": {
    "colab": {
     "base_uri": "https://localhost:8080/"
    },
    "id": "1QICnmDs5YEc",
    "outputId": "1d50dbd9-aaeb-4e10-b033-15be3f892508"
   },
   "outputs": [],
   "source": [
    "raw_sample       = data['teks'].iloc[5]\n",
    "case_folding     = casefolding(raw_sample)\n",
    "stopword_removal = remove_stop_words(case_folding)\n",
    "\n",
    "print('Raw data\\t\\t: ', raw_sample)\n",
    "print('Case folding\\t\\t: ', case_folding)\n",
    "print('Stopword removal\\t: ', stopword_removal)"
   ]
  },
  {
   "cell_type": "markdown",
   "metadata": {
    "id": "SZCnsJAF75-8"
   },
   "source": [
    "### Stemming"
   ]
  },
  {
   "cell_type": "code",
   "execution_count": null,
   "metadata": {
    "id": "vkJptlP_7_TB"
   },
   "outputs": [],
   "source": [
    "factory = StemmerFactory()\n",
    "stemmer = factory.create_stemmer()\n",
    "\n",
    "# Buat fungsi untuk langkah stemming bahasa Indonesia\n",
    "def stemming(text):\n",
    "  text = stemmer.stem(text)\n",
    "  return text"
   ]
  },
  {
   "cell_type": "code",
   "execution_count": null,
   "metadata": {
    "colab": {
     "base_uri": "https://localhost:8080/"
    },
    "id": "1h6bHSBw8LP5",
    "outputId": "4ca3e3d7-e059-45ed-f54a-2e574781bd04"
   },
   "outputs": [],
   "source": [
    "raw_sample       = data['teks'].iloc[5]\n",
    "case_folding     = casefolding(raw_sample)\n",
    "stopword_removal = remove_stop_words(case_folding)\n",
    "text_stemming    = stemming(stopword_removal)\n",
    "\n",
    "print('Raw data\\t\\t: ', raw_sample)\n",
    "print('Case folding\\t\\t: ', case_folding)\n",
    "print('Stopword removal\\t: ', stopword_removal)\n",
    "print('Stemming\\t\\t: ', text_stemming)"
   ]
  },
  {
   "cell_type": "markdown",
   "metadata": {
    "id": "EYxUP7B69HT3"
   },
   "source": [
    "### Text Preprocessing Pipeline"
   ]
  },
  {
   "cell_type": "code",
   "execution_count": null,
   "metadata": {
    "id": "pVe1LL7B9QfT"
   },
   "outputs": [],
   "source": [
    "# Buat fungsi untuk menggabungkan seluruh langkah text preprocessing\n",
    "def text_preprocessing_process(text):\n",
    "  text = casefolding(text)\n",
    "  text = text_normalize(text)\n",
    "  text = remove_stop_words(text)\n",
    "  text = stemming(text)\n",
    "  return text"
   ]
  },
  {
   "cell_type": "code",
   "execution_count": null,
   "metadata": {
    "colab": {
     "base_uri": "https://localhost:8080/"
    },
    "id": "TNKQowwo9sF4",
    "outputId": "f706800b-9c66-4ca3-b1bf-f9c5b1fad0ca"
   },
   "outputs": [],
   "source": [
    "%%time\n",
    "data['clean_teks'] = data['teks'].apply(text_preprocessing_process)\n",
    "\n",
    "# Perhatikan waktu komputasi ketika proses text preprocessing"
   ]
  },
  {
   "cell_type": "code",
   "execution_count": null,
   "metadata": {
    "colab": {
     "base_uri": "https://localhost:8080/",
     "height": 424
    },
    "id": "tIshorBt932a",
    "outputId": "da251bdf-40b6-48ad-9519-e075ed1349d3"
   },
   "outputs": [],
   "source": [
    "data"
   ]
  },
  {
   "cell_type": "code",
   "execution_count": null,
   "metadata": {
    "id": "eeXfrxd8yQAB"
   },
   "outputs": [],
   "source": [
    "# Simpan data yang telah melalui text preprocessing agar kita tidak perlu menjalankan proses tersebut mulai awal (Opsional)\n",
    "data.to_csv('clean_data.csv')"
   ]
  },
  {
   "cell_type": "markdown",
   "metadata": {
    "id": "7ctyIbyEsPFi"
   },
   "source": [
    "## Feature Engineering"
   ]
  },
  {
   "cell_type": "code",
   "execution_count": null,
   "metadata": {
    "id": "2t7BhFnWsSZe"
   },
   "outputs": [],
   "source": [
    "# Pisahkan kolom feature dan target\n",
    "X = data['clean_teks']\n",
    "y = data['label']"
   ]
  },
  {
   "cell_type": "code",
   "execution_count": null,
   "metadata": {
    "colab": {
     "base_uri": "https://localhost:8080/"
    },
    "id": "Cxu19lBHvcBb",
    "outputId": "7c9b9408-cb8f-45b5-df4c-ebf0b7d031d0"
   },
   "outputs": [],
   "source": [
    "X"
   ]
  },
  {
   "cell_type": "code",
   "execution_count": null,
   "metadata": {
    "colab": {
     "base_uri": "https://localhost:8080/"
    },
    "id": "KL_kEo3ppY3V",
    "outputId": "8d90cd35-0cac-4e71-fa62-b973cf819b2c"
   },
   "outputs": [],
   "source": [
    "y"
   ]
  },
  {
   "cell_type": "markdown",
   "metadata": {
    "id": "W8iKtPqjxR3s"
   },
   "source": [
    "### Feature Extraction (TF-IDF & N-Gram)\n",
    "Proses mengubah teks menjadi vector menggunakan metode TF-IDF"
   ]
  },
  {
   "cell_type": "code",
   "execution_count": null,
   "metadata": {
    "colab": {
     "base_uri": "https://localhost:8080/"
    },
    "id": "XrcmVBXoxNZm",
    "outputId": "62eb7666-f20f-453b-c71c-f9ca0a2d54d8"
   },
   "outputs": [],
   "source": [
    "tf_idf = TfidfVectorizer(ngram_range=(1,1))\n",
    "tf_idf.fit(X)"
   ]
  },
  {
   "cell_type": "code",
   "execution_count": null,
   "metadata": {
    "colab": {
     "base_uri": "https://localhost:8080/"
    },
    "id": "ELw2koCXyCph",
    "outputId": "17f62f7e-f6a6-401f-f147-845ba46b8094"
   },
   "outputs": [],
   "source": [
    "# Melihat Jumlah Fitur\n",
    "print(len(tf_idf.get_feature_names()))"
   ]
  },
  {
   "cell_type": "code",
   "execution_count": null,
   "metadata": {
    "colab": {
     "base_uri": "https://localhost:8080/"
    },
    "id": "P_5Yo-gpyJKN",
    "outputId": "a3df5a18-d4a2-4f42-be34-a2cafaad8fff"
   },
   "outputs": [],
   "source": [
    "# Melihat fitur-fitur apa saja yang ada di dalam corpus\n",
    "print(tf_idf.get_feature_names())"
   ]
  },
  {
   "cell_type": "code",
   "execution_count": null,
   "metadata": {
    "colab": {
     "base_uri": "https://localhost:8080/"
    },
    "id": "ERMDg7bnXVKX",
    "outputId": "6294a04d-7fb7-46ef-83f2-121b4982453f"
   },
   "outputs": [],
   "source": [
    "# Melihat matriks jumlah token\n",
    "# Data ini siap untuk dimasukkan dalam proses pemodelan (machine learning)\n",
    "\n",
    "X_tf_idf = tf_idf.transform(X).toarray()\n",
    "X_tf_idf"
   ]
  },
  {
   "cell_type": "code",
   "execution_count": null,
   "metadata": {
    "colab": {
     "base_uri": "https://localhost:8080/",
     "height": 424
    },
    "id": "8oza2vPQyNYg",
    "outputId": "d0b3cc1b-7cb4-4653-9a40-fda42355be5d"
   },
   "outputs": [],
   "source": [
    "# Melihat matriks jumlah token menggunakan TF IDF, lihat perbedaannya dengan metode BoW\n",
    "# Data ini siap untuk dimasukkan dalam proses pemodelan (machine learning)\n",
    "\n",
    "data_tf_idf = pd.DataFrame(X_tf_idf, columns=tf_idf.get_feature_names())\n",
    "data_tf_idf"
   ]
  },
  {
   "cell_type": "code",
   "execution_count": null,
   "metadata": {
    "id": "ZWKDFffQ10EJ"
   },
   "outputs": [],
   "source": [
    "with open('tf_idf_feature.pickle', 'wb') as output:\n",
    "  pickle.dump(X_tf_idf, output)"
   ]
  },
  {
   "cell_type": "markdown",
   "metadata": {
    "id": "h5t0Aiuuyz-U"
   },
   "source": [
    "### Feature Selection"
   ]
  },
  {
   "cell_type": "code",
   "execution_count": null,
   "metadata": {
    "id": "WrRkpAiwyzdZ"
   },
   "outputs": [],
   "source": [
    "# Mengubah nilai data tabular tf-idf menjadi array agar dapat dijalankan pada proses seleksi fitur\n",
    "X = np.array(data_tf_idf)\n",
    "y = np.array(y)"
   ]
  },
  {
   "cell_type": "code",
   "execution_count": null,
   "metadata": {
    "colab": {
     "base_uri": "https://localhost:8080/"
    },
    "id": "sTPpd8ikyo_I",
    "outputId": "c07ed167-1518-4ba7-86c0-cac5f99911b6"
   },
   "outputs": [],
   "source": [
    "# Ten features with highest chi-squared statistics are selected \n",
    "chi2_features    = SelectKBest(chi2, k=1000) \n",
    "X_kbest_features = chi2_features.fit_transform(X, y) \n",
    "  \n",
    "# Reduced features \n",
    "print('Original feature number:', X.shape[1]) \n",
    "print('Reduced feature number:', X_kbest_features.shape[1]) "
   ]
  },
  {
   "cell_type": "code",
   "execution_count": null,
   "metadata": {
    "colab": {
     "base_uri": "https://localhost:8080/",
     "height": 424
    },
    "id": "LdseJ5DI_4lk",
    "outputId": "0f3924b8-d414-4c6a-fa9f-a0da370cda8f"
   },
   "outputs": [],
   "source": [
    "# chi2_features.scores_ adalah nilai chi-square, semakin tinggi nilainya maka semakin baik fiturnya\n",
    "data_chi2 = pd.DataFrame(chi2_features.scores_, columns=['nilai'])\n",
    "data_chi2"
   ]
  },
  {
   "cell_type": "code",
   "execution_count": null,
   "metadata": {
    "colab": {
     "base_uri": "https://localhost:8080/",
     "height": 424
    },
    "id": "LC5Q7oSB_8RP",
    "outputId": "b98e4331-96f8-45d9-c58a-3093632f6596"
   },
   "outputs": [],
   "source": [
    "# Menampilkan fitur beserta nilainya\n",
    "feature = tf_idf.get_feature_names()\n",
    "data_chi2['fitur'] = feature\n",
    "data_chi2"
   ]
  },
  {
   "cell_type": "code",
   "execution_count": null,
   "metadata": {
    "colab": {
     "base_uri": "https://localhost:8080/",
     "height": 424
    },
    "id": "b9kZnH0rAoUK",
    "outputId": "691f44f4-700f-4375-d2c5-b4ab64124223"
   },
   "outputs": [],
   "source": [
    "# Mengurutkan fitur terbaik\n",
    "data_chi2.sort_values(by='nilai', ascending=False)"
   ]
  },
  {
   "cell_type": "code",
   "execution_count": null,
   "metadata": {
    "colab": {
     "base_uri": "https://localhost:8080/"
    },
    "id": "WEzCob-oA7pt",
    "outputId": "837c76a7-7898-4c87-b35d-b261ac3e47b4"
   },
   "outputs": [],
   "source": [
    "# Menampilkan mask pada feature yang diseleksi\n",
    "# False berarti fitur tidak terpilih dan True berarti fitur terpilih\n",
    "mask = chi2_features.get_support()\n",
    "mask"
   ]
  },
  {
   "cell_type": "code",
   "execution_count": null,
   "metadata": {
    "colab": {
     "base_uri": "https://localhost:8080/"
    },
    "id": "iyjhdOE1A-hI",
    "outputId": "34390a02-0705-4961-8543-3273450966bc"
   },
   "outputs": [],
   "source": [
    "# Menampilkan fitur-fitur terpilih berdasarkan mask atau nilai tertinggi yang sudah dikalkulasi pada Chi-Square\n",
    "new_feature = []\n",
    "\n",
    "for bool, f in zip(mask, feature):\n",
    "  if bool:\n",
    "    new_feature.append(f)\n",
    "  selected_feature = new_feature\n",
    "\n",
    "selected_feature"
   ]
  },
  {
   "cell_type": "code",
   "execution_count": null,
   "metadata": {
    "id": "ChXS9hdvc3lY"
   },
   "outputs": [],
   "source": [
    "# Memilih fitur yang telah terseleksi dari vocabulary TF IDF\n",
    "kbest_feature = {}\n",
    "\n",
    "for (k,v) in tf_idf.vocabulary_.items():\n",
    "  if k in selected_feature:\n",
    "    kbest_feature[k] = v"
   ]
  },
  {
   "cell_type": "code",
   "execution_count": null,
   "metadata": {
    "colab": {
     "base_uri": "https://localhost:8080/"
    },
    "id": "2xVZwbaidXin",
    "outputId": "b82d15fc-f973-42a2-d953-778507b6b875"
   },
   "outputs": [],
   "source": [
    "len(kbest_feature)"
   ]
  },
  {
   "cell_type": "code",
   "execution_count": null,
   "metadata": {
    "colab": {
     "base_uri": "https://localhost:8080/",
     "height": 424
    },
    "id": "vjsjV7bjBAw6",
    "outputId": "713bea61-cb30-4143-d16d-7b511a3871cb"
   },
   "outputs": [],
   "source": [
    "# Menampilkan fitur-fitur yang sudah diseleksi \n",
    "# Beserta nilai vektornya pada keseluruhan data untuk dijalankan pada proses machine learning\n",
    "\n",
    "# Hanya k fitur yang terpilih sesuai parameter k yang ditentukan sebelumnya\n",
    "\n",
    "data_selected_feature = pd.DataFrame(X_kbest_features, columns=selected_feature)\n",
    "data_selected_feature"
   ]
  },
  {
   "cell_type": "code",
   "execution_count": null,
   "metadata": {
    "id": "NU0JcpL6PLEX"
   },
   "outputs": [],
   "source": [
    "with open('kbest_feature.pickle', 'wb') as output:\n",
    "  pickle.dump(kbest_feature, output)"
   ]
  },
  {
   "cell_type": "markdown",
   "metadata": {
    "id": "RD0xKtir-1Dd"
   },
   "source": [
    "## Modelling (Machine Learning)"
   ]
  },
  {
   "cell_type": "code",
   "execution_count": null,
   "metadata": {
    "id": "eMHdBH73ZHv6"
   },
   "outputs": [],
   "source": [
    "# Memisihkan data training dan data testing dengan perbandingan 80:20\n",
    "X_train, X_test, y_train, y_test = train_test_split(X_kbest_features, y, test_size=0.2, random_state=0)"
   ]
  },
  {
   "cell_type": "code",
   "execution_count": null,
   "metadata": {
    "colab": {
     "base_uri": "https://localhost:8080/"
    },
    "id": "hgCOm_O-Yz7o",
    "outputId": "a0d31eee-74dc-4f06-8083-663008606630"
   },
   "outputs": [],
   "source": [
    "# Training Model\n",
    "algorithm = MultinomialNB()\n",
    "model     = algorithm.fit(X_train, y_train)"
   ]
  },
  {
   "cell_type": "markdown",
   "metadata": {},
   "source": [
    "## Prediction"
   ]
  },
  {
   "cell_type": "code",
   "execution_count": null,
   "metadata": {
    "colab": {
     "base_uri": "https://localhost:8080/"
    },
    "id": "MzaMBbc_Y0uE",
    "outputId": "9f4f18a9-9c48-4aa7-8b63-afc02846f88f"
   },
   "outputs": [],
   "source": [
    "# Prediksi untuk Data Latih\n",
    "predicted_train = model.predict(X_train)\n",
    "\n",
    "# hasil ini akan kita bandingkan dengan nilai y_train (labeling dari manusia)\n",
    "predicted_train[1:20]"
   ]
  },
  {
   "cell_type": "code",
   "execution_count": null,
   "metadata": {},
   "outputs": [],
   "source": [
    "# Prediksi untuk Data Uji\n",
    "predicted_test = model.predict(X_test)\n",
    "\n",
    "# hasil ini akan kita bandingkan dengan nilai y_test (labeling dari manusia)\n",
    "predicted_test[1:20]"
   ]
  },
  {
   "cell_type": "markdown",
   "metadata": {
    "id": "mf4_vPvN-45h"
   },
   "source": [
    "# Model Evaluation"
   ]
  },
  {
   "cell_type": "code",
   "execution_count": null,
   "metadata": {
    "colab": {
     "base_uri": "https://localhost:8080/"
    },
    "id": "osgLQLWM-6d8",
    "outputId": "3fa112e2-829e-4f81-eab2-8a80c0f3794e"
   },
   "outputs": [],
   "source": [
    "# Perhitungan Performa Model untuk Data Latih\n",
    "CM = confusion_matrix(y_train, predicted_train)\n",
    "\n",
    "print(CM,'\\n')\n",
    "\n",
    "print(\"ACCURACY\\t:\", accuracy_score(y_train, predicted_train)*100,\"%\\n\")\n",
    "\n",
    "print(classification_report(y_train,predicted_train))"
   ]
  },
  {
   "cell_type": "code",
   "execution_count": null,
   "metadata": {},
   "outputs": [],
   "source": [
    "# Perhitungan Performa Model untuk Data Uji\n",
    "CM = confusion_matrix(y_test, predicted_test)\n",
    "\n",
    "print(CM,'\\n')\n",
    "\n",
    "print(\"ACCURACY\\t:\", accuracy_score(y_test, predicted_test)*100,\"%\\n\")\n",
    "\n",
    "print(classification_report(y_test,predicted_test))"
   ]
  },
  {
   "cell_type": "markdown",
   "metadata": {},
   "source": [
    "## Menyimpan Model"
   ]
  },
  {
   "cell_type": "code",
   "execution_count": null,
   "metadata": {},
   "outputs": [],
   "source": [
    "# save the model to disk\n",
    "dump(model, filename=\"model_spam_tfidf_nb.model\")"
   ]
  }
 ],
 "metadata": {
  "colab": {
   "collapsed_sections": [],
   "name": "NLP 03 Text Classification [For Coach 2].ipynb",
   "provenance": []
  },
  "kernelspec": {
   "display_name": "tf_env2",
   "language": "python",
   "name": "tf_env2"
  },
  "language_info": {
   "codemirror_mode": {
    "name": "ipython",
    "version": 3
   },
   "file_extension": ".py",
   "mimetype": "text/x-python",
   "name": "python",
   "nbconvert_exporter": "python",
   "pygments_lexer": "ipython3",
   "version": "3.8.5"
  }
 },
 "nbformat": 4,
 "nbformat_minor": 1
}
